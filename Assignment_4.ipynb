{
  "nbformat": 4,
  "nbformat_minor": 0,
  "metadata": {
    "colab": {
      "provenance": [],
      "authorship_tag": "ABX9TyPuDTYxIrUbvPyg0slMUpv2",
      "include_colab_link": true
    },
    "kernelspec": {
      "name": "python3",
      "display_name": "Python 3"
    },
    "language_info": {
      "name": "python"
    }
  },
  "cells": [
    {
      "cell_type": "markdown",
      "metadata": {
        "id": "view-in-github",
        "colab_type": "text"
      },
      "source": [
        "<a href=\"https://colab.research.google.com/github/HuzaifaKhan20/Python-Assignment-4/blob/main/Assignment_4.ipynb\" target=\"_parent\"><img src=\"https://colab.research.google.com/assets/colab-badge.svg\" alt=\"Open In Colab\"/></a>"
      ]
    },
    {
      "cell_type": "code",
      "execution_count": null,
      "metadata": {
        "id": "mE6CLfboxBBH"
      },
      "outputs": [],
      "source": []
    },
    {
      "cell_type": "markdown",
      "source": [
        "Q1. my_tuple = ( (1, 2, 3), [4, 5, 6], (&#39;apple&#39;, &#39;banana&#39;, &#39;cherry&#39;), [7, 8, 9] )\n",
        "• Print all elements from my_tuple on a new line (using for loop)\n",
        "• Create a new tuple by concatenating the first and last elements of my_tuple"
      ],
      "metadata": {
        "id": "v9wzydInxRyO"
      }
    },
    {
      "cell_type": "code",
      "source": [
        "my_tuple = ( (1, 2, 3), [4, 5, 6], ('apple', 'banana', 'cherry'), [7, 8, 9] )\n",
        "\n",
        "# Part 1: Print all elements from my_tuple on a new line\n",
        "for item in my_tuple:\n",
        "    print(item)\n",
        "\n",
        "# Part 2: Create a new tuple by concatenating the first and last elements\n",
        "new_tuple = my_tuple[0] + tuple(my_tuple[-1])\n",
        "print(\"\\nNew Tuple:\", new_tuple)\n"
      ],
      "metadata": {
        "colab": {
          "base_uri": "https://localhost:8080/"
        },
        "id": "eYcGV_x2xTqh",
        "outputId": "d15df99b-943f-4c9e-ba31-cbbb000e7249"
      },
      "execution_count": 1,
      "outputs": [
        {
          "output_type": "stream",
          "name": "stdout",
          "text": [
            "(1, 2, 3)\n",
            "[4, 5, 6]\n",
            "('apple', 'banana', 'cherry')\n",
            "[7, 8, 9]\n",
            "\n",
            "New Tuple: (1, 2, 3, 7, 8, 9)\n"
          ]
        }
      ]
    },
    {
      "cell_type": "markdown",
      "source": [
        "Q2. inventory = { &quot;The Great Gatsby&quot;: {&quot;price&quot;: 10.99, &quot;quantity&quot;: 5}, &quot;Rich dad poor dad&quot;: {&quot;price&quot;:\n",
        "8.99, &quot;quantity&quot;: 8}, &quot;Harry Potter&quot;: {&quot;price&quot;: 12.50, &quot;quantity&quot;: 2}, }\n",
        "• Add a new book in inventory using method and get all book titles using method\n",
        "• Remove a book if it&#39;s out of stock\n"
      ],
      "metadata": {
        "id": "oxNg5Wdmx4rw"
      }
    },
    {
      "cell_type": "code",
      "source": [
        "inventory = {\n",
        "    \"The Great Gatsby\": {\"price\": 10.99, \"quantity\": 5},\n",
        "    \"Rich Dad Poor Dad\": {\"price\": 8.99, \"quantity\": 8},\n",
        "    \"Harry Potter\": {\"price\": 12.50, \"quantity\": 2},\n",
        "}\n",
        "\n",
        "# Part 1: Add a new book to inventory\n",
        "inventory[\"The Catcher in the Rye\"] = {\"price\": 9.99, \"quantity\": 4}\n",
        "print(inventory)\n",
        "\n",
        "\n",
        "# Part 2: Get all book titles using keys() method\n",
        "book_titles = list(inventory.keys())\n",
        "print(\"\\nBook Titles:\", book_titles)\n",
        "\n",
        "# Part 3: Remove a book if it's out of stock\n",
        "# Check each book's quantity and remove the book if it's out of stock\n",
        "for book, details in list(inventory.items()):\n",
        "    if details[\"quantity\"] == 0:\n",
        "        del inventory[book]\n",
        "\n",
        "# Print updated inventory\n",
        "print(\"\\nUpdated Inventory:\", inventory)\n"
      ],
      "metadata": {
        "colab": {
          "base_uri": "https://localhost:8080/"
        },
        "id": "PwFJJH1yx8rN",
        "outputId": "41b12900-2d2c-46f0-d859-2e1df3db0fa0"
      },
      "execution_count": 5,
      "outputs": [
        {
          "output_type": "stream",
          "name": "stdout",
          "text": [
            "{'The Great Gatsby': {'price': 10.99, 'quantity': 5}, 'Rich Dad Poor Dad': {'price': 8.99, 'quantity': 8}, 'Harry Potter': {'price': 12.5, 'quantity': 2}, 'The Catcher in the Rye': {'price': 9.99, 'quantity': 4}}\n",
            "\n",
            "Book Titles: ['The Great Gatsby', 'Rich Dad Poor Dad', 'Harry Potter', 'The Catcher in the Rye']\n",
            "\n",
            "Updated Inventory: {'The Great Gatsby': {'price': 10.99, 'quantity': 5}, 'Rich Dad Poor Dad': {'price': 8.99, 'quantity': 8}, 'Harry Potter': {'price': 12.5, 'quantity': 2}, 'The Catcher in the Rye': {'price': 9.99, 'quantity': 4}}\n"
          ]
        }
      ]
    },
    {
      "cell_type": "markdown",
      "source": [
        "Q3. An ecommerce store stores information about its products in a nested dictionary. The outer\n",
        "dictionary uses product IDs as keys, and the inner dictionary stores product details like name,\n",
        "category, price, and stock quantity.\n",
        "products = { 101: {&quot;name&quot;: &quot;Laptop&quot;, &quot;category&quot;: &quot;Electronics&quot;, &quot;price&quot;: 1200, &quot;stock&quot;: 50}, 102:\n",
        "{&quot;name&quot;: &quot;Shirt&quot;, &quot;category&quot;: &quot;Apparel&quot;, &quot;price&quot;: 25, &quot;stock&quot;: 200}, 103: {&quot;name&quot;: &quot;Coffee Maker&quot;,\n",
        "&quot;category&quot;: &quot;Home Appliances&quot;, &quot;price&quot;: 80, &quot;stock&quot;: 30} }\n",
        "• Increase the stock of the &quot;Shirt&quot; product (add 50 more units)\n",
        "• Add a new product (e.g., &quot;Smartphone&quot;)"
      ],
      "metadata": {
        "id": "SVavi4-Lyp4N"
      }
    },
    {
      "cell_type": "code",
      "source": [
        "# Initial products dictionary\n",
        "products = {\n",
        "    101: {\"name\": \"Laptop\", \"category\": \"Electronics\", \"price\": 1200, \"stock\": 50},\n",
        "    102: {\"name\": \"Shirt\", \"category\": \"Apparel\", \"price\": 25, \"stock\": 200},\n",
        "    103: {\"name\": \"Coffee Maker\", \"category\": \"Home Appliances\", \"price\": 80, \"stock\": 30}\n",
        "}\n",
        "\n",
        "# Part 1: Increase the stock of the \"Shirt\" product (ID 102) by 50 units\n",
        "products[102][\"stock\"] += 50\n",
        "\n",
        "# Part 2: Add a new product, \"Smartphone\"\n",
        "products[104] = {\n",
        "    \"name\": \"Smartphone\",\n",
        "    \"category\": \"Electronics\",\n",
        "    \"price\": 699,\n",
        "    \"stock\": 100\n",
        "}\n",
        "\n",
        "# Print updated products dictionary\n",
        "print(\"Updated Products:\", products)\n"
      ],
      "metadata": {
        "colab": {
          "base_uri": "https://localhost:8080/"
        },
        "id": "ZD9kchnAyweF",
        "outputId": "526e8e4f-dd7c-47d2-b93a-23d0721864dc"
      },
      "execution_count": 6,
      "outputs": [
        {
          "output_type": "stream",
          "name": "stdout",
          "text": [
            "Updated Products: {101: {'name': 'Laptop', 'category': 'Electronics', 'price': 1200, 'stock': 50}, 102: {'name': 'Shirt', 'category': 'Apparel', 'price': 25, 'stock': 250}, 103: {'name': 'Coffee Maker', 'category': 'Home Appliances', 'price': 80, 'stock': 30}, 104: {'name': 'Smartphone', 'category': 'Electronics', 'price': 699, 'stock': 100}}\n"
          ]
        }
      ]
    },
    {
      "cell_type": "code",
      "source": [],
      "metadata": {
        "id": "v_hx40SDyzGR"
      },
      "execution_count": null,
      "outputs": []
    },
    {
      "cell_type": "markdown",
      "source": [
        "Q4. You are given a list that contains some duplicate items. Remove the duplicates by converting the\n",
        "list to a set.\n",
        "shopping_list = [&quot;apple&quot;, &quot;banana&quot;, &quot;apple&quot;, &quot;orange&quot;, &quot;banana&quot;, &quot;grape&quot;]"
      ],
      "metadata": {
        "id": "BN6Plafny87i"
      }
    },
    {
      "cell_type": "code",
      "source": [
        "shopping_list = [\"apple\", \"banana\", \"apple\", \"orange\", \"banana\", \"grape\"]\n",
        "\n",
        "# Convert the list to a set to remove duplicates\n",
        "unique_items = set(shopping_list)\n",
        "\n",
        "# Print the result\n",
        "print(\"Unique items:\", unique_items)\n"
      ],
      "metadata": {
        "colab": {
          "base_uri": "https://localhost:8080/"
        },
        "id": "oTBI74msy_tk",
        "outputId": "50834290-000e-4d6d-9449-629e1d8718ef"
      },
      "execution_count": 7,
      "outputs": [
        {
          "output_type": "stream",
          "name": "stdout",
          "text": [
            "Unique items: {'grape', 'banana', 'apple', 'orange'}\n"
          ]
        }
      ]
    },
    {
      "cell_type": "code",
      "source": [],
      "metadata": {
        "id": "gseZNl6xzEYC"
      },
      "execution_count": null,
      "outputs": []
    },
    {
      "cell_type": "markdown",
      "source": [
        "Q5. You are managing a list of students enrolled in two different courses. You need to perform\n",
        "various set operations to understand the student enrollment. Task: Create two sets: one for students\n",
        "in &quot;Course A&quot; and one for students in &quot;Course B&quot;. Find the students who are in &quot;Course A&quot; but not in\n",
        "&quot;Course B&quot; (difference). Find students who are only in one of the two courses (symmetric\n",
        "difference). course_a = {&quot;John&quot;, &quot;Alice&quot;, &quot;Bob&quot;, &quot;David&quot;} course_b = {&quot;Alice&quot;, &quot;Eve&quot;, &quot;Charlie&quot;,\n",
        "&quot;David&quot;}\n",
        "• Find students who are in Course A but not in Course B (difference)\n",
        "• Find students who are only in one of the two courses (symmetric difference)"
      ],
      "metadata": {
        "id": "yarkCKK6zGUR"
      }
    },
    {
      "cell_type": "code",
      "source": [
        "# Define the student sets for Course A and Course B\n",
        "course_a = {\"John\", \"Alice\", \"Bob\", \"David\"}\n",
        "course_b = {\"Alice\", \"Eve\", \"Charlie\", \"David\"}\n",
        "\n",
        "# Task 1: Find students in Course A but not in Course B (difference)\n",
        "students_in_a_not_b = course_a - course_b\n",
        "print(\"Students in Course A but not in Course B:\", students_in_a_not_b)\n",
        "\n",
        "# Task 2: Find students who are only in one of the two courses (symmetric difference)\n",
        "students_in_one_course = course_a ^ course_b\n",
        "print(\"Students who are only in one of the two courses:\", students_in_one_course)\n"
      ],
      "metadata": {
        "colab": {
          "base_uri": "https://localhost:8080/"
        },
        "id": "pMUX89QUzJfr",
        "outputId": "4313b21e-0352-47ef-8cf9-087ffc665e94"
      },
      "execution_count": 8,
      "outputs": [
        {
          "output_type": "stream",
          "name": "stdout",
          "text": [
            "Students in Course A but not in Course B: {'Bob', 'John'}\n",
            "Students who are only in one of the two courses: {'Charlie', 'Bob', 'Eve', 'John'}\n"
          ]
        }
      ]
    },
    {
      "cell_type": "code",
      "source": [],
      "metadata": {
        "id": "XRR-pLGjzOe7"
      },
      "execution_count": null,
      "outputs": []
    },
    {
      "cell_type": "markdown",
      "source": [
        "Q6. Write a Python program that calculates the sum of all even numbers between 1 and 50\n",
        "(inclusive) using a for loop.\n",
        "Hint\n",
        "1. Initialize a variable to hold the sum (e.g., sum_of_evens).\n",
        "2. Use a for loop to iterate through all numbers from 1 to 50.\n",
        "3. Inside the loop, check if the number is even.\n",
        "4. If the number is even, add it to sum_of_evens.\n",
        "5. After the loop finishes, print the total sum of all even numbers between 1 and 50."
      ],
      "metadata": {
        "id": "AQgghnwLzPj2"
      }
    },
    {
      "cell_type": "code",
      "source": [
        "# Initialize variable to hold the sum of even numbers\n",
        "sum_of_evens = 0\n",
        "\n",
        "# Use a for loop to iterate through all numbers from 1 to 50\n",
        "for number in range(1, 51):\n",
        "    # Check if the number is even\n",
        "    if number % 2 == 0:\n",
        "        # Add the even number to the sum\n",
        "        sum_of_evens += number\n",
        "\n",
        "# Print the total sum of all even numbers between 1 and 50\n",
        "print(\"The sum of all even numbers between 1 and 50 is:\", sum_of_evens)\n"
      ],
      "metadata": {
        "colab": {
          "base_uri": "https://localhost:8080/"
        },
        "id": "qsSqa8W-zRyw",
        "outputId": "2829e9a5-52ae-4fb7-f42e-79b19f200a21"
      },
      "execution_count": 9,
      "outputs": [
        {
          "output_type": "stream",
          "name": "stdout",
          "text": [
            "The sum of all even numbers between 1 and 50 is: 650\n"
          ]
        }
      ]
    },
    {
      "cell_type": "code",
      "source": [],
      "metadata": {
        "id": "AodPgUfXzWPF"
      },
      "execution_count": null,
      "outputs": []
    },
    {
      "cell_type": "markdown",
      "source": [
        "Q7. Write a Python program that prints the multiplication table for a given number (between 1 and\n",
        "10) using a for loop.\n",
        "\n",
        "Hint:\n",
        "1. Ask the user for a number between 1 and 10 .\n",
        "2. Use a for loop to iterate through the numbers from 1 to 10.\n",
        "3. For each iteration, calculate the product of the given number and the current number in the\n",
        "loop.\n",
        "4. Print the result in a readable format (e.g., 5 x 1 = 5).\n",
        "5. Ensure the program works correctly for any number between 1 and 10.\n",
        "\n",
        "Output Hint:\n",
        "4 x 1 = 4\n",
        "4 x 2 = 8\n",
        "4 x 3 = 12\n",
        "4 x 4 = 16\n",
        "4 x 5 = 20\n",
        "4 x 6 = 24\n",
        "4 x 7 = 28\n",
        "4 x 8 = 32\n",
        "4 x 9 = 36\n",
        "4 x 10 = 40"
      ],
      "metadata": {
        "id": "wgrtaXFJzgIH"
      }
    },
    {
      "cell_type": "code",
      "source": [
        "# Ask the user for a number between 1 and 10\n",
        "number = int(input(\"Enter a number between 1 and 10: \"))\n",
        "\n",
        "# Ensure the number is within the valid range\n",
        "if 1 <= number <= 10:\n",
        "    # Use a for loop to iterate through numbers 1 to 10\n",
        "    for i in range(1, 11):\n",
        "        # Calculate the product and print the result in the format \"number x i = result\"\n",
        "        print(f\"{number} x {i} = {number * i}\")\n",
        "else:\n",
        "    print(\"Please enter a valid number between 1 and 10.\")\n"
      ],
      "metadata": {
        "colab": {
          "base_uri": "https://localhost:8080/"
        },
        "id": "kCgIcGq5zg4c",
        "outputId": "c74f817c-f08b-4951-d280-1d4d030dfdcc"
      },
      "execution_count": 10,
      "outputs": [
        {
          "output_type": "stream",
          "name": "stdout",
          "text": [
            "Enter a number between 1 and 10: 4\n",
            "4 x 1 = 4\n",
            "4 x 2 = 8\n",
            "4 x 3 = 12\n",
            "4 x 4 = 16\n",
            "4 x 5 = 20\n",
            "4 x 6 = 24\n",
            "4 x 7 = 28\n",
            "4 x 8 = 32\n",
            "4 x 9 = 36\n",
            "4 x 10 = 40\n"
          ]
        }
      ]
    },
    {
      "cell_type": "code",
      "source": [],
      "metadata": {
        "id": "nuKNRNWqzlKC"
      },
      "execution_count": null,
      "outputs": []
    },
    {
      "cell_type": "markdown",
      "source": [
        "Q8. Power of a Number\n",
        "Write a Python program that takes a number and prints the powers of the number (starting from 1\n",
        "to 10) using a while loop. For example, if the user inputs 3, the output should be:\n",
        "3^1 = 3\n",
        "3^2 = 9\n",
        "3^3 = 27\n",
        "... up to 3^10."
      ],
      "metadata": {
        "id": "R2AnpwtPzs3O"
      }
    },
    {
      "cell_type": "code",
      "source": [
        "# Ask the user to input a number\n",
        "number = int(input(\"Enter a number: \"))\n",
        "\n",
        "# Initialize a counter variable for the exponent\n",
        "i = 1\n",
        "\n",
        "# Use a while loop to calculate and print powers of the number from 1 to 10\n",
        "while i <= 10:\n",
        "    # Calculate the power and print it in the format \"number^i = result\"\n",
        "    print(f\"{number}^{i} = {number ** i}\")\n",
        "    # Increment the counter\n",
        "    i += 1\n"
      ],
      "metadata": {
        "colab": {
          "base_uri": "https://localhost:8080/"
        },
        "id": "njUTd4lVztId",
        "outputId": "cec2ce93-8a16-45b2-b12e-918341172f13"
      },
      "execution_count": 11,
      "outputs": [
        {
          "output_type": "stream",
          "name": "stdout",
          "text": [
            "Enter a number: 3\n",
            "3^1 = 3\n",
            "3^2 = 9\n",
            "3^3 = 27\n",
            "3^4 = 81\n",
            "3^5 = 243\n",
            "3^6 = 729\n",
            "3^7 = 2187\n",
            "3^8 = 6561\n",
            "3^9 = 19683\n",
            "3^10 = 59049\n"
          ]
        }
      ]
    },
    {
      "cell_type": "code",
      "source": [],
      "metadata": {
        "id": "aKIOZvWhzwSo"
      },
      "execution_count": null,
      "outputs": []
    },
    {
      "cell_type": "markdown",
      "source": [
        "Q9. Problem Statement: Write a Python program that takes an integer input from the user and\n",
        "counts down from that number to 0. The program should display the current number at each step\n",
        "until it reaches 0, at which point it should print a message indicating the countdown is finished\n",
        "Output Hint:\n",
        "Enter a number to start the countdown: 3\n",
        "3\n",
        "2\n",
        "1\n",
        "0\n",
        "Countdown finished!"
      ],
      "metadata": {
        "id": "bYxB6dlYz3Qg"
      }
    },
    {
      "cell_type": "code",
      "source": [
        "# Ask the user to input a number to start the countdown\n",
        "number = int(input(\"Enter a number to start the countdown: \"))\n",
        "\n",
        "# Use a while loop to count down from the given number to 0\n",
        "while number >= 0:\n",
        "    print(number)\n",
        "    number -= 1  # Decrease the number by 1 after each step\n",
        "\n",
        "# After reaching 0, print a message indicating the countdown is finished\n",
        "print(\"Countdown finished!\")\n"
      ],
      "metadata": {
        "colab": {
          "base_uri": "https://localhost:8080/"
        },
        "id": "sT_ZSvRBz3qe",
        "outputId": "dd2e83e6-2983-4718-dd62-cc6ff51691f8"
      },
      "execution_count": 12,
      "outputs": [
        {
          "output_type": "stream",
          "name": "stdout",
          "text": [
            "Enter a number to start the countdown: 4\n",
            "4\n",
            "3\n",
            "2\n",
            "1\n",
            "0\n",
            "Countdown finished!\n"
          ]
        }
      ]
    },
    {
      "cell_type": "code",
      "source": [],
      "metadata": {
        "id": "So9gOju9z6Hw"
      },
      "execution_count": null,
      "outputs": []
    },
    {
      "cell_type": "markdown",
      "source": [
        "Q10. Write a Python program that takes an integer input n from the user and generates a right-\n",
        "angled triangle pattern of stars (*) with n rows. The first row should contain 1 star, the second row 2\n",
        "stars, the third row 3 stars, and so on until the nth row.\n",
        "Ensure the stars in each row are separated by spaces, and each row starts on a new line.\n",
        "# Pattern:\n",
        "*\n",
        "**\n",
        "***\n",
        "****\n",
        "*****"
      ],
      "metadata": {
        "id": "uuanO_d60A12"
      }
    },
    {
      "cell_type": "code",
      "source": [
        "# Ask the user to input the number of rows for the triangle\n",
        "n = int(input(\"Enter the number of rows for the triangle: \"))\n",
        "\n",
        "# Generate the right-angled triangle pattern\n",
        "for i in range(1, n + 1):\n",
        "    # Print stars in the current row with spaces between them\n",
        "    print(\" \".join(\"*\" * i))\n"
      ],
      "metadata": {
        "colab": {
          "base_uri": "https://localhost:8080/"
        },
        "id": "cLz9gY_70BNB",
        "outputId": "c12f0789-d628-47c4-f9e5-46ac723d008e"
      },
      "execution_count": 13,
      "outputs": [
        {
          "output_type": "stream",
          "name": "stdout",
          "text": [
            "Enter the number of rows for the triangle: 4\n",
            "*\n",
            "* *\n",
            "* * *\n",
            "* * * *\n"
          ]
        }
      ]
    },
    {
      "cell_type": "code",
      "source": [],
      "metadata": {
        "id": "2-Sd-Yie0EPR"
      },
      "execution_count": null,
      "outputs": []
    }
  ]
}